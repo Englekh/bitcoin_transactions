{
 "cells": [
  {
   "cell_type": "code",
   "execution_count": 1,
   "id": "c92242a2",
   "metadata": {},
   "outputs": [],
   "source": [
    "import os\n",
    "import time\n",
    "import subprocess"
   ]
  },
  {
   "cell_type": "code",
   "execution_count": 2,
   "id": "22bddbdf",
   "metadata": {},
   "outputs": [],
   "source": [
    "nums = list(range(420000, 500001))"
   ]
  },
  {
   "cell_type": "code",
   "execution_count": null,
   "id": "f4abbf4b",
   "metadata": {},
   "outputs": [
    {
     "name": "stdout",
     "output_type": "stream",
     "text": [
      " 429080 / 500000 | time_left: 2022741.6687227783          time_left: 2129849.7933221217          / 500000 | time_left: 2114440.52828976          2299050.46628558          424466 / 500000 | time_left: 2273117.7728913543           2188236.1425732775          "
     ]
    }
   ],
   "source": [
    "start = time.time()\n",
    "    \n",
    "i = 0\n",
    "for num in nums: \n",
    "    now = time.time()\n",
    "    i += 1\n",
    "    print('\\r', num, '/', nums[-1], '|', 'time_left:', (now - start) * (len(nums) - i) / i, '         ', end = '')\n",
    "    proc = subprocess.Popen([\"./checker2\", 'inputs_420-500/' + str(num) + '_input.txt', 'outputs_420_500/' + str(num) + '_output.txt', '2'])\n",
    "    proc.wait()\n",
    "        "
   ]
  },
  {
   "cell_type": "code",
   "execution_count": 37,
   "id": "02813949",
   "metadata": {},
   "outputs": [
    {
     "name": "stdout",
     "output_type": "stream",
     "text": [
      "\r",
      "Finished                         \n"
     ]
    },
    {
     "data": {
      "text/plain": [
       "0"
      ]
     },
     "execution_count": 37,
     "metadata": {},
     "output_type": "execute_result"
    }
   ],
   "source": [
    "i = 0\n",
    "proc = subprocess.Popen([\"./checker\", 'inputs/' + str(i) + '_input.txt', 'outputs/' + str(i) + '_output.txt', '4'])\n",
    "proc.wait()"
   ]
  },
  {
   "cell_type": "code",
   "execution_count": 30,
   "id": "4bbbc4e5",
   "metadata": {},
   "outputs": [
    {
     "data": {
      "text/plain": [
       "'1259700805\\n1\\n>1\\n# TIME LIMIT EXTENDED\\n'"
      ]
     },
     "execution_count": 30,
     "metadata": {},
     "output_type": "execute_result"
    }
   ],
   "source": [
    "f = open('outputs/28507_output.txt')\n",
    "f.read()"
   ]
  },
  {
   "cell_type": "code",
   "execution_count": null,
   "id": "d98fa548",
   "metadata": {},
   "outputs": [],
   "source": []
  }
 ],
 "metadata": {
  "kernelspec": {
   "display_name": "Python 3 (ipykernel)",
   "language": "python",
   "name": "python3"
  },
  "language_info": {
   "codemirror_mode": {
    "name": "ipython",
    "version": 3
   },
   "file_extension": ".py",
   "mimetype": "text/x-python",
   "name": "python",
   "nbconvert_exporter": "python",
   "pygments_lexer": "ipython3",
   "version": "3.8.10"
  }
 },
 "nbformat": 4,
 "nbformat_minor": 5
}
